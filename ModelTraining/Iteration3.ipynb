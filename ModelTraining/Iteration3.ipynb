{
  "nbformat": 4,
  "nbformat_minor": 0,
  "metadata": {
    "colab": {
      "name": "Iteration3.ipynb",
      "version": "0.3.2",
      "provenance": [],
      "collapsed_sections": [],
      "include_colab_link": true
    },
    "kernelspec": {
      "name": "python3",
      "display_name": "Python 3"
    },
    "accelerator": "GPU"
  },
  "cells": [
    {
      "cell_type": "markdown",
      "metadata": {
        "id": "view-in-github",
        "colab_type": "text"
      },
      "source": [
        "<a href=\"https://colab.research.google.com/github/JamesPeralta/NeuroNexus2019/blob/master/ModelTraining/Iteration3.ipynb\" target=\"_parent\"><img src=\"https://colab.research.google.com/assets/colab-badge.svg\" alt=\"Open In Colab\"/></a>"
      ]
    },
    {
      "cell_type": "markdown",
      "metadata": {
        "id": "FBA7dGATY8nG",
        "colab_type": "text"
      },
      "source": [
        "### Mount drive and download libraries from Github"
      ]
    },
    {
      "cell_type": "code",
      "metadata": {
        "id": "-6IVNTApLko6",
        "colab_type": "code",
        "outputId": "34617546-21e4-4206-ab06-f065db1302d8",
        "colab": {
          "base_uri": "https://localhost:8080/",
          "height": 122
        }
      },
      "source": [
        "from google.colab import drive\n",
        "drive.mount('/content/drive')"
      ],
      "execution_count": 1,
      "outputs": [
        {
          "output_type": "stream",
          "text": [
            "Go to this URL in a browser: https://accounts.google.com/o/oauth2/auth?client_id=947318989803-6bn6qk8qdgf4n4g3pfee6491hc0brc4i.apps.googleusercontent.com&redirect_uri=urn%3Aietf%3Awg%3Aoauth%3A2.0%3Aoob&scope=email%20https%3A%2F%2Fwww.googleapis.com%2Fauth%2Fdocs.test%20https%3A%2F%2Fwww.googleapis.com%2Fauth%2Fdrive%20https%3A%2F%2Fwww.googleapis.com%2Fauth%2Fdrive.photos.readonly%20https%3A%2F%2Fwww.googleapis.com%2Fauth%2Fpeopleapi.readonly&response_type=code\n",
            "\n",
            "Enter your authorization code:\n",
            "··········\n",
            "Mounted at /content/drive\n"
          ],
          "name": "stdout"
        }
      ]
    },
    {
      "cell_type": "markdown",
      "metadata": {
        "id": "FaOwMJCEMZPv",
        "colab_type": "text"
      },
      "source": [
        "### Any imports"
      ]
    },
    {
      "cell_type": "code",
      "metadata": {
        "id": "fSkH2BaDMYwt",
        "colab_type": "code",
        "outputId": "5f9a4235-b0a8-4ec5-c439-e3c52c293fe6",
        "colab": {
          "base_uri": "https://localhost:8080/",
          "height": 34
        }
      },
      "source": [
        "import os\n",
        "import matplotlib.pyplot as plt\n",
        "import numpy as np\n",
        "import nibabel as nib\n",
        "import cv2 \n",
        "from sklearn.feature_extraction import image\n",
        "import math\n",
        "from keras.utils import np_utils\n",
        "import keras"
      ],
      "execution_count": 2,
      "outputs": [
        {
          "output_type": "stream",
          "text": [
            "Using TensorFlow backend.\n"
          ],
          "name": "stderr"
        }
      ]
    },
    {
      "cell_type": "markdown",
      "metadata": {
        "id": "9bPRDWf8MQ_G",
        "colab_type": "text"
      },
      "source": [
        "### Retrieve slices and thier ground-truth"
      ]
    },
    {
      "cell_type": "code",
      "metadata": {
        "id": "dX7mKhQTMi97",
        "colab_type": "code",
        "outputId": "8027aebe-b69a-4813-b682-730c2ddea247",
        "colab": {
          "base_uri": "https://localhost:8080/",
          "height": 51
        }
      },
      "source": [
        "# CD into the data\n",
        "# CD into the data\n",
        "t1 = '/content/drive/My Drive/#6_Brain_Segmentation/Scans/HC/HC_T1.nii'\n",
        "c1 = '/content/drive/My Drive/#6_Brain_Segmentation/Scans/HC/c1HC_T1.nii'\n",
        "\n",
        "t1_nii = nib.load(t1)\n",
        "t1_np = np.array(t1_nii.dataobj)\n",
        "print(t1_np.shape)\n",
        "\n",
        "c1_nii = nib.load(c1)\n",
        "c1_np = np.array(c1_nii.dataobj)\n",
        "print(c1_np.shape)"
      ],
      "execution_count": 3,
      "outputs": [
        {
          "output_type": "stream",
          "text": [
            "(256, 256, 344)\n",
            "(256, 256, 344)\n"
          ],
          "name": "stdout"
        }
      ]
    },
    {
      "cell_type": "code",
      "metadata": {
        "id": "nTGgZwYKrXo9",
        "colab_type": "code",
        "colab": {
          "base_uri": "https://localhost:8080/",
          "height": 286
        },
        "outputId": "74bcdd73-112e-41bb-c492-6a4922468f34"
      },
      "source": [
        "plt.imshow(t1_np[:, :, 108])"
      ],
      "execution_count": 5,
      "outputs": [
        {
          "output_type": "execute_result",
          "data": {
            "text/plain": [
              "<matplotlib.image.AxesImage at 0x7f40fcb28748>"
            ]
          },
          "metadata": {
            "tags": []
          },
          "execution_count": 5
        },
        {
          "output_type": "display_data",
          "data": {
            "image/png": "[encoded data removed]",
            "text/plain": [
              "<Figure size 432x288 with 1 Axes>"
            ]
          },
          "metadata": {
            "tags": []
          }
        }
      ]
    },
    {
      "cell_type": "code",
      "metadata": {
        "id": "pf6hohRaiwcg",
        "colab_type": "code",
        "outputId": "703cb9fe-4b17-486f-c7e8-fb98775aa70a",
        "colab": {
          "base_uri": "https://localhost:8080/",
          "height": 286
        }
      },
      "source": [
        "plt.imshow(c1_np[:, :, 108])"
      ],
      "execution_count": 4,
      "outputs": [
        {
          "output_type": "execute_result",
          "data": {
            "text/plain": [
              "<matplotlib.image.AxesImage at 0x7f40ff412a90>"
            ]
          },
          "metadata": {
            "tags": []
          },
          "execution_count": 4
        },
        {
          "output_type": "display_data",
          "data": {
            "image/png": "[encoded data removed]",
            "text/plain": [
              "<Figure size 432x288 with 1 Axes>"
            ]
          },
          "metadata": {
            "tags": []
          }
        }
      ]
    },
    {
      "cell_type": "code",
      "metadata": {
        "id": "HAcrWuo0rvVY",
        "colab_type": "code",
        "colab": {}
      },
      "source": [
        "import sys\n",
        "np.set_printoptions(threshold = sys.maxsize)\n",
        "print(c1_np[:,:,108])"
      ],
      "execution_count": 0,
      "outputs": []
    },
    {
      "cell_type": "markdown",
      "metadata": {
        "id": "wTaG088AzlX_",
        "colab_type": "text"
      },
      "source": [
        "### Extract patches"
      ]
    },
    {
      "cell_type": "code",
      "metadata": {
        "id": "fsB7jUo1simy",
        "colab_type": "code",
        "outputId": "a51ba3ea-6b14-4581-f163-4fed17e112e8",
        "colab": {
          "base_uri": "https://localhost:8080/",
          "height": 51
        }
      },
      "source": [
        "t1_patches = image.extract_patches_2d(t1_np[108], (23, 23))\n",
        "c1_patches = image.extract_patches_2d(c1_np[108], (23, 23))\n",
        "\n",
        "print(t1_patches.shape)\n",
        "print(c1_patches.shape)"
      ],
      "execution_count": 18,
      "outputs": [
        {
          "output_type": "stream",
          "text": [
            "(75348, 23, 23)\n",
            "(75348, 23, 23)\n"
          ],
          "name": "stdout"
        }
      ]
    },
    {
      "cell_type": "code",
      "metadata": {
        "id": "npOcvyjJLAhE",
        "colab_type": "code",
        "colab": {
          "base_uri": "https://localhost:8080/",
          "height": 286
        },
        "outputId": "b06e38f8-00ff-47b3-a4b4-ff51c70b8a94"
      },
      "source": [
        "plt.imshow(t1_patches[40000])"
      ],
      "execution_count": 21,
      "outputs": [
        {
          "output_type": "execute_result",
          "data": {
            "text/plain": [
              "<matplotlib.image.AxesImage at 0x7f40fb195ac8>"
            ]
          },
          "metadata": {
            "tags": []
          },
          "execution_count": 21
        },
        {
          "output_type": "display_data",
          "data": {
            "image/png": "[encoded data removed]",
            "text/plain": [
              "<Figure size 432x288 with 1 Axes>"
            ]
          },
          "metadata": {
            "tags": []
          }
        }
      ]
    },
    {
      "cell_type": "code",
      "metadata": {
        "id": "u7LYJxVghbjr",
        "colab_type": "code",
        "colab": {
          "base_uri": "https://localhost:8080/",
          "height": 34
        },
        "outputId": "8edf21b3-ccd9-4b42-ebbb-f9e107d3e49a"
      },
      "source": [
        "x = t1_patches.reshape((75348, 23, 23, 1))\n",
        "print(x.shape)"
      ],
      "execution_count": 19,
      "outputs": [
        {
          "output_type": "stream",
          "text": [
            "(75348, 23, 23, 1)\n"
          ],
          "name": "stdout"
        }
      ]
    },
    {
      "cell_type": "code",
      "metadata": {
        "id": "gBx58FBXiFR_",
        "colab_type": "code",
        "colab": {}
      },
      "source": [
        "print(x[40000])"
      ],
      "execution_count": 0,
      "outputs": []
    },
    {
      "cell_type": "code",
      "metadata": {
        "id": "5GJypHXQgDSe",
        "colab_type": "code",
        "colab": {}
      },
      "source": [
        "# Convert c1 patch to thier labels\n",
        "y = label_patches(c1_patches)\n",
        "y.shape"
      ],
      "execution_count": 0,
      "outputs": []
    },
    {
      "cell_type": "code",
      "metadata": {
        "id": "HaDNkOC4zXp1",
        "colab_type": "code",
        "colab": {
          "base_uri": "https://localhost:8080/",
          "height": 34
        },
        "outputId": "032444f0-29fd-4088-bf99-3a3f0040c08c"
      },
      "source": [
        "y.shape"
      ],
      "execution_count": 35,
      "outputs": [
        {
          "output_type": "execute_result",
          "data": {
            "text/plain": [
              "(75348, 2)"
            ]
          },
          "metadata": {
            "tags": []
          },
          "execution_count": 35
        }
      ]
    },
    {
      "cell_type": "code",
      "metadata": {
        "id": "ewzbBRolzU4m",
        "colab_type": "code",
        "colab": {}
      },
      "source": [
        "zero_count = 0\n",
        "one_count = 0\n",
        "for i in y:\n",
        "  if i[0] == 1:\n",
        "    zero_count = zero_count + 1\n",
        "    # Remove an index from \n",
        "  else:\n",
        "    one_count = one_count + 1"
      ],
      "execution_count": 0,
      "outputs": []
    },
    {
      "cell_type": "code",
      "metadata": {
        "id": "DqkQQ5d40B_r",
        "colab_type": "code",
        "colab": {
          "base_uri": "https://localhost:8080/",
          "height": 51
        },
        "outputId": "b8447cb6-5862-4b2b-a0e6-0702cb9288f1"
      },
      "source": [
        "print(zero_count)\n",
        "print(one_count)"
      ],
      "execution_count": 45,
      "outputs": [
        {
          "output_type": "stream",
          "text": [
            "55911\n",
            "19437\n"
          ],
          "name": "stdout"
        }
      ]
    },
    {
      "cell_type": "code",
      "metadata": {
        "id": "M7WmGpmVjfUE",
        "colab_type": "code",
        "colab": {}
      },
      "source": [
        "print(y[8823: 8850])"
      ],
      "execution_count": 0,
      "outputs": []
    },
    {
      "cell_type": "code",
      "metadata": {
        "id": "AL-EenyBl_eX",
        "colab_type": "code",
        "colab": {}
      },
      "source": [
        "x_shuf = np.random.shuffle(x)\n",
        "y_shuf = np.random.shuffle(y)"
      ],
      "execution_count": 0,
      "outputs": []
    },
    {
      "cell_type": "code",
      "metadata": {
        "id": "27elz0yymosI",
        "colab_type": "code",
        "colab": {
          "base_uri": "https://localhost:8080/",
          "height": 51
        },
        "outputId": "70dd90c2-7233-4869-f46e-fe7261374bb2"
      },
      "source": [
        "print(x.shape)\n",
        "print(y.shape)"
      ],
      "execution_count": 23,
      "outputs": [
        {
          "output_type": "stream",
          "text": [
            "(75348, 23, 23, 1)\n",
            "(75348, 2)\n"
          ],
          "name": "stdout"
        }
      ]
    },
    {
      "cell_type": "markdown",
      "metadata": {
        "id": "uOLog7L_P9v2",
        "colab_type": "text"
      },
      "source": [
        "## Creating the Neural Network"
      ]
    },
    {
      "cell_type": "code",
      "metadata": {
        "id": "HEGfRSADQAkR",
        "colab_type": "code",
        "colab": {}
      },
      "source": [
        "from tensorflow.keras.layers import Conv2D, MaxPooling2D, Dense, Flatten\n",
        "from tensorflow.keras.models import Sequential\n",
        "from tensorflow.keras import optimizers"
      ],
      "execution_count": 0,
      "outputs": []
    },
    {
      "cell_type": "code",
      "metadata": {
        "id": "BTP9gN5TQn3L",
        "colab_type": "code",
        "colab": {}
      },
      "source": [
        "# Define the models architecture\n",
        "def create_model():\n",
        "    # Build the architecture\n",
        "    model = Sequential()\n",
        "    model.add(Conv2D(64, (3, 3), strides=(1, 1), activation='relu', input_shape=(23, 23, 1), padding=\"same\"))\n",
        "    model.add(MaxPooling2D((3, 3), strides=(2, 2)))\n",
        "    model.add(Conv2D(128, (3, 3), strides=(1, 1), activation='relu', padding=\"same\"))\n",
        "    model.add(MaxPooling2D((3, 3), strides=(2, 2)))\n",
        "    model.add(Flatten())\n",
        "    model.add(Dense(64, activation='relu'))\n",
        "    model.add(Dense(2, activation='sigmoid'))\n",
        "\n",
        "    model.compile(loss='binary_crossentropy', optimizer=optimizers.RMSprop(lr=0.01), metrics=['acc'])\n",
        "  \n",
        "    return model"
      ],
      "execution_count": 0,
      "outputs": []
    },
    {
      "cell_type": "code",
      "metadata": {
        "id": "uGwop2xRSK3A",
        "colab_type": "code",
        "outputId": "fa9cc836-c162-4139-fd1e-505d5b3fe9ba",
        "colab": {
          "base_uri": "https://localhost:8080/",
          "height": 445
        }
      },
      "source": [
        "model = create_model()\n",
        "model.summary()"
      ],
      "execution_count": 26,
      "outputs": [
        {
          "output_type": "stream",
          "text": [
            "WARNING:tensorflow:From /usr/local/lib/python3.6/dist-packages/tensorflow/python/ops/resource_variable_ops.py:435: colocate_with (from tensorflow.python.framework.ops) is deprecated and will be removed in a future version.\n",
            "Instructions for updating:\n",
            "Colocations handled automatically by placer.\n",
            "_________________________________________________________________\n",
            "Layer (type)                 Output Shape              Param #   \n",
            "=================================================================\n",
            "conv2d (Conv2D)              (None, 23, 23, 64)        640       \n",
            "_________________________________________________________________\n",
            "max_pooling2d (MaxPooling2D) (None, 11, 11, 64)        0         \n",
            "_________________________________________________________________\n",
            "conv2d_1 (Conv2D)            (None, 11, 11, 128)       73856     \n",
            "_________________________________________________________________\n",
            "max_pooling2d_1 (MaxPooling2 (None, 5, 5, 128)         0         \n",
            "_________________________________________________________________\n",
            "flatten (Flatten)            (None, 3200)              0         \n",
            "_________________________________________________________________\n",
            "dense (Dense)                (None, 64)                204864    \n",
            "_________________________________________________________________\n",
            "dense_1 (Dense)              (None, 2)                 130       \n",
            "=================================================================\n",
            "Total params: 279,490\n",
            "Trainable params: 279,490\n",
            "Non-trainable params: 0\n",
            "_________________________________________________________________\n"
          ],
          "name": "stdout"
        }
      ]
    },
    {
      "cell_type": "code",
      "metadata": {
        "id": "zHIhZVpFylt1",
        "colab_type": "code",
        "colab": {}
      },
      "source": [
        "model.fit(x, y, batch_size=2, epochs=10, shuffle=True)"
      ],
      "execution_count": 0,
      "outputs": []
    },
    {
      "cell_type": "markdown",
      "metadata": {
        "id": "Ds_1GkLa3xCl",
        "colab_type": "text"
      },
      "source": [
        "## Predict Batch and re-construct the image"
      ]
    },
    {
      "cell_type": "code",
      "metadata": {
        "id": "y4-Hjt_54AZe",
        "colab_type": "code",
        "colab": {}
      },
      "source": [
        "this = np.array(model.predict_classes(x))"
      ],
      "execution_count": 0,
      "outputs": []
    },
    {
      "cell_type": "code",
      "metadata": {
        "id": "BFZKjoKU-Fnv",
        "colab_type": "code",
        "colab": {
          "base_uri": "https://localhost:8080/",
          "height": 34
        },
        "outputId": "5b0c11f9-9147-4f28-cbb8-7268bc0e6b28"
      },
      "source": [
        "this.shape"
      ],
      "execution_count": 48,
      "outputs": [
        {
          "output_type": "execute_result",
          "data": {
            "text/plain": [
              "(75348,)"
            ]
          },
          "metadata": {
            "tags": []
          },
          "execution_count": 48
        }
      ]
    },
    {
      "cell_type": "code",
      "metadata": {
        "id": "HmMmQniJ4JUI",
        "colab_type": "code",
        "colab": {}
      },
      "source": [
        "print(this)"
      ],
      "execution_count": 0,
      "outputs": []
    },
    {
      "cell_type": "code",
      "metadata": {
        "id": "KQDe6IE_58_5",
        "colab_type": "code",
        "colab": {}
      },
      "source": [
        "for i in this:\n",
        "  if i == 1:\n",
        "    print(\"Chill\")"
      ],
      "execution_count": 0,
      "outputs": []
    },
    {
      "cell_type": "code",
      "metadata": {
        "id": "98JOFL_m4Ksv",
        "colab_type": "code",
        "colab": {}
      },
      "source": [
        "done = np.reshape(this, (234, 204))"
      ],
      "execution_count": 0,
      "outputs": []
    },
    {
      "cell_type": "code",
      "metadata": {
        "id": "Xm30tWiL4Sj8",
        "colab_type": "code",
        "outputId": "3303eb29-46ec-40fa-b260-860881dc722b",
        "colab": {
          "base_uri": "https://localhost:8080/",
          "height": 286
        }
      },
      "source": [
        "plt.imshow(done)"
      ],
      "execution_count": 0,
      "outputs": [
        {
          "output_type": "execute_result",
          "data": {
            "text/plain": [
              "<matplotlib.image.AxesImage at 0x7f6e342def60>"
            ]
          },
          "metadata": {
            "tags": []
          },
          "execution_count": 43
        },
        {
          "output_type": "display_data",
          "data": {
            "image/png": "[encoded data removed]",
            "text/plain": [
              "<Figure size 432x288 with 1 Axes>"
            ]
          },
          "metadata": {
            "tags": []
          }
        }
      ]
    },
    {
      "cell_type": "markdown",
      "metadata": {
        "id": "A6JkcdWpfUfU",
        "colab_type": "text"
      },
      "source": [
        "---\n",
        "# Helpers"
      ]
    },
    {
      "cell_type": "code",
      "metadata": {
        "id": "B-kafNs4fW85",
        "colab_type": "code",
        "colab": {}
      },
      "source": [
        "def label_patches(patches):\n",
        "    '''\n",
        "    Always pass in square patches with an odd width and height\n",
        "    This is needed for use to calculate the center pixel\n",
        "\n",
        "    :param patches: Patches you would like to label\n",
        "    :return:\n",
        "    '''\n",
        "    labels_list = []\n",
        "    dim = math.ceil(len(patches[0, 1, :]) / 2)\n",
        "\n",
        "    for index, patch in enumerate(patches):\n",
        "        if patch[dim, dim] > 0:\n",
        "            labels_list.append(\"1\")\n",
        "            print(\"here\" + str(index))\n",
        "        else:\n",
        "            labels_list.append(\"0\")\n",
        "          \n",
        "\n",
        "    return keras.utils.to_categorical(labels_list, num_classes=2)"
      ],
      "execution_count": 0,
      "outputs": []
    }
  ]
}